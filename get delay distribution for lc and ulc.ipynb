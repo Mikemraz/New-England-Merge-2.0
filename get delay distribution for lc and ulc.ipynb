{
 "cells": [
  {
   "cell_type": "code",
   "execution_count": 439,
   "metadata": {},
   "outputs": [],
   "source": [
    "import os\n",
    "import pandas as pd\n",
    "import numpy as np\n",
    "import matplotlib.pyplot as plt"
   ]
  },
  {
   "cell_type": "code",
   "execution_count": 440,
   "metadata": {},
   "outputs": [],
   "source": [
    "# num refers to the recored number of VISSIM runs.\n",
    "num = 289\n",
    "delay_file_newname = 'simple_intersection_{}_delay.csv'.format(num)\n",
    "lc_file_newname = 'simple_intersection_{}_lc.csv'.format(num)"
   ]
  },
  {
   "cell_type": "code",
   "execution_count": 441,
   "metadata": {},
   "outputs": [],
   "source": [
    "# change the format of file to be .csv\n",
    "for filename in os.listdir('.'):\n",
    "    if filename == 'simple_intersection_{}.rsr'.format(num):\n",
    "        os.rename(filename,delay_file_newname)\n",
    "    if filename == 'simple_intersection_{}.spw'.format(num):\n",
    "        os.rename(filename,lc_file_newname)\n",
    "        "
   ]
  },
  {
   "cell_type": "code",
   "execution_count": 442,
   "metadata": {},
   "outputs": [],
   "source": [
    "delay_df = pd.read_csv(delay_file_newname,sep=';',index_col=False,skiprows=range(8))\n",
    "lc_df = pd.read_csv(lc_file_newname,sep=';',index_col=False,skiprows=range(8))"
   ]
  },
  {
   "cell_type": "markdown",
   "metadata": {},
   "source": [
    "delay_df,  \n",
    "**rename**:  \n",
    "'Veh'-->'VehNo'  \n",
    "'Time'-->'SimTimeAtEnd'  \n",
    "**Columns to keep**:  \n",
    "['SimTime','VehNo','Delay']\n",
    "\n",
    "\n",
    "lc_df,  \n",
    "**rename**:  \n",
    "'t'-->'LcTime'  \n",
    "'v'-->'LcSpeed'  \n",
    "'Lane'-->'OriginalLane'  \n",
    "'New Lane'-->'TargetLane'    \n",
    "**Columns to keep**： ['LcTime','LcSpeed','OriginalLane','TargetLane']\n",
    "    \n"
   ]
  },
  {
   "cell_type": "code",
   "execution_count": 443,
   "metadata": {},
   "outputs": [],
   "source": [
    "# rename the columns and only keep a subset of columns\n",
    "delay_df = delay_df.rename(columns={'   Veh': 'VehNo', '  Time': 'SimTimeAtEnd', \"Delay.\": \"Delay\"})\n",
    "delay_df = delay_df[['VehNo','SimTimeAtEnd','Delay']]\n",
    "lc_df = lc_df.rename(columns={' VehNo': 'VehNo', ' v [m/s]': 'LcSpeed', 't': 'LcTime', ' Lane': 'OriginalLane', ' New Lane':'TargetLane'})\n",
    "lc_df = lc_df[['VehNo','LcTime','LcSpeed','OriginalLane','TargetLane']]"
   ]
  },
  {
   "cell_type": "code",
   "execution_count": 444,
   "metadata": {},
   "outputs": [],
   "source": [
    "# set VehNo as index to concatenate on\n",
    "lc_df = lc_df.drop_duplicates('VehNo')\n",
    "delay_df = delay_df.set_index('VehNo')\n",
    "lc_df = lc_df.set_index('VehNo')\n",
    "delay_df = delay_df.sort_index()\n",
    "lc_df = lc_df.sort_index()"
   ]
  },
  {
   "cell_type": "code",
   "execution_count": 445,
   "metadata": {},
   "outputs": [],
   "source": [
    "# concatenate two dataframes\n",
    "mega_df = pd.concat([delay_df, lc_df],axis=1,sort=False)"
   ]
  },
  {
   "cell_type": "code",
   "execution_count": 446,
   "metadata": {},
   "outputs": [],
   "source": [
    "# add an is_lc column to indicate whether the vehicle has changesd lane or not\n",
    "mega_df['is_lc'] = 0\n",
    "index_to_change = mega_df[mega_df.index.isin(lc_df.index)].index\n",
    "mega_df.loc[index_to_change,'is_lc'] = 1\n",
    "\n",
    "mega_df = mega_df.dropna(axis=0, subset=['Delay'])"
   ]
  },
  {
   "cell_type": "code",
   "execution_count": 447,
   "metadata": {},
   "outputs": [],
   "source": [
    "x_upper = 300\n",
    "y_upper = 300\n",
    "binsize = 20"
   ]
  },
  {
   "cell_type": "code",
   "execution_count": 448,
   "metadata": {},
   "outputs": [
    {
     "name": "stdout",
     "output_type": "stream",
     "text": [
      "delay mean for vehicles changed lanes:  17.011249182472195\n",
      "delay std for vehicles changed lanes:  14.271690723091973\n"
     ]
    },
    {
     "data": {
      "image/png": "[encoded data removed]",
      "text/plain": [
       "<Figure size 432x288 with 1 Axes>"
      ]
     },
     "metadata": {},
     "output_type": "display_data"
    }
   ],
   "source": [
    "# delay mean and std for vehicles have not changed lanes\n",
    "ulc_delay_mean = mega_df[mega_df['is_lc']==0]['Delay'].mean()\n",
    "ulc_delay_std = mega_df[mega_df['is_lc']==0]['Delay'].std()\n",
    "print('delay mean for vehicles changed lanes: ',ulc_delay_mean)\n",
    "print('delay std for vehicles changed lanes: ',ulc_delay_std)\n",
    "\n",
    "# plot delay distribution\n",
    "mega_df[mega_df['is_lc']==0]['Delay'].hist(bins=binsize)\n",
    "plt.xlabel('delay/sec')\n",
    "plt.ylabel('frequency')\n",
    "plt.xlim((0,x_upper))\n",
    "plt.ylim((0,y_upper))\n",
    "plt.title('vehicles keeping straight|Mean:{:10.2f}|Std:{:10.2f}'.format(ulc_delay_mean,ulc_delay_std))\n",
    "plt.savefig('delay distribution images/{}_ulc.png'.format(num))"
   ]
  },
  {
   "cell_type": "code",
   "execution_count": 449,
   "metadata": {},
   "outputs": [
    {
     "name": "stdout",
     "output_type": "stream",
     "text": [
      "delay mean for vehicles changed lanes:  19.085265104808865\n",
      "delay std for vehicles changed lanes:  15.612459983822404\n"
     ]
    },
    {
     "data": {
      "image/png": "[encoded data removed]",
      "text/plain": [
       "<Figure size 432x288 with 1 Axes>"
      ]
     },
     "metadata": {},
     "output_type": "display_data"
    }
   ],
   "source": [
    "# delay mean and std for vehicles have changed lanes\n",
    "lc_delay_mean = mega_df[mega_df['is_lc']==1]['Delay'].mean()\n",
    "lc_delay_std = mega_df[mega_df['is_lc']==1]['Delay'].std()\n",
    "print('delay mean for vehicles changed lanes: ',lc_delay_mean)\n",
    "print('delay std for vehicles changed lanes: ',lc_delay_std)\n",
    "\n",
    "# plot delay distribution\n",
    "mega_df[mega_df['is_lc']==1]['Delay'].hist(bins=binsize)\n",
    "plt.xlabel('delay/sec')\n",
    "plt.ylabel('frequency')\n",
    "plt.xlim((0,x_upper))\n",
    "plt.ylim((0,y_upper))\n",
    "plt.title('vehicles changing lanes|Mean:{:10.2f}|Std:{:10.2f}'.format(lc_delay_mean,lc_delay_std))\n",
    "plt.savefig('delay distribution images/{}_lc.png'.format(num))"
   ]
  },
  {
   "cell_type": "code",
   "execution_count": null,
   "metadata": {},
   "outputs": [],
   "source": []
  }
 ],
 "metadata": {
  "kernelspec": {
   "display_name": "Python 3",
   "language": "python",
   "name": "python3"
  },
  "language_info": {
   "codemirror_mode": {
    "name": "ipython",
    "version": 3
   },
   "file_extension": ".py",
   "mimetype": "text/x-python",
   "name": "python",
   "nbconvert_exporter": "python",
   "pygments_lexer": "ipython3",
   "version": "3.6.5"
  }
 },
 "nbformat": 4,
 "nbformat_minor": 2
}
